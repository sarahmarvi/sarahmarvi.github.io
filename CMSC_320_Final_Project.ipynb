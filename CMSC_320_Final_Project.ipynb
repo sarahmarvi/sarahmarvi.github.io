{
 "cells": [
  {
   "cell_type": "markdown",
   "metadata": {
    "colab_type": "text",
    "id": "d1ioE1b4qgUg"
   },
   "source": [
    "# __CMSC 320: Final Project__\n",
    "\n",
    "Nataliya Stepanova, Nick Wong, Sarah Marvi\n",
    "\n",
    "## __Motivation__\n",
    "\n",
    "Almost everyone has to deal with spam messages. No matter what we do, spam seems to always be sent to our phones, annoying many, and sucessfully tricking the unfortunately gullible. These spam messages at times also contain viruses when clicked, imposing danger to those who accidentally, or purposefully, respond or click on the link provided by these spam messages. To the public spam poses an annoyance at the least, and actual, life ruining danger to their data at the worst. To data science, with this experiment we want to see if there is a pattern in spam, and if we find one, suggest these patterns as ways to filter spam messages out of texts and alleviating the danger. We decided to use three patterns that we thought could be possible indicators of spam, and tested it out on texting data that we acquired. This tutorial will walk you through the process of how we did the experiment."
   ]
  },
  {
   "cell_type": "markdown",
   "metadata": {
    "colab_type": "text",
    "id": "cdibgTp-tm0w"
   },
   "source": [
    "##__Data Collection__\n",
    "\n",
    "We were interested in doing data processing related to natural language, since 2 of our 3 team members are Linguistics minors. While looking for natural language data, we came across the following website with links to several datasets for natural language processing: https://medium.com/@ODSC/20-open-datasets-for-natural-language-processing-538fbfaf8e38. The SMS Spam Collection dataset specifically caught our eye, as we thought it would be interesting to apply machine learning prediction techniques to try to identify features that would allow us to predict whether a message was a spam message or not. \n",
    "\n",
    "So, we used the dataset located in the link for SMS spam collection and contacted the researchers to get their permission to use the data. Once we got their permission, we opened the data as a text file (since the data came as a generic file), and then converted it to a csv file using the “from text to csv” option in excel’s data tab, using the delimiter as a tab, and the file encoding as UTF-8. We then converted that data to a normal csv file, from which we grabbed data for our experiment. \n",
    "\n",
    "Here is the code for importing the data and doing relevant cleaning:\n",
    "\n",
    "###__Loading the data__\n",
    "\n",
    "\n",
    "\n"
   ]
  },
  {
   "cell_type": "code",
   "execution_count": 0,
   "metadata": {
    "colab": {
     "base_uri": "https://localhost:8080/",
     "height": 359
    },
    "colab_type": "code",
    "id": "H9i1PPMvgrhA",
    "outputId": "10e804c2-649b-4832-f1e1-7d6668050d51"
   },
   "outputs": [
    {
     "data": {
      "text/html": [
       "<div>\n",
       "<style scoped>\n",
       "    .dataframe tbody tr th:only-of-type {\n",
       "        vertical-align: middle;\n",
       "    }\n",
       "\n",
       "    .dataframe tbody tr th {\n",
       "        vertical-align: top;\n",
       "    }\n",
       "\n",
       "    .dataframe thead th {\n",
       "        text-align: right;\n",
       "    }\n",
       "</style>\n",
       "<table border=\"1\" class=\"dataframe\">\n",
       "  <thead>\n",
       "    <tr style=\"text-align: right;\">\n",
       "      <th></th>\n",
       "      <th>Classifier</th>\n",
       "      <th>Text</th>\n",
       "    </tr>\n",
       "  </thead>\n",
       "  <tbody>\n",
       "    <tr>\n",
       "      <th>0</th>\n",
       "      <td>ham</td>\n",
       "      <td>Go until jurong point, crazy.. Available only ...</td>\n",
       "    </tr>\n",
       "    <tr>\n",
       "      <th>1</th>\n",
       "      <td>ham</td>\n",
       "      <td>Ok lar... Joking wif u oni...</td>\n",
       "    </tr>\n",
       "    <tr>\n",
       "      <th>2</th>\n",
       "      <td>spam</td>\n",
       "      <td>Free entry in 2 a wkly comp to win FA Cup fina...</td>\n",
       "    </tr>\n",
       "    <tr>\n",
       "      <th>3</th>\n",
       "      <td>ham</td>\n",
       "      <td>U dun say so early hor... U c already then say...</td>\n",
       "    </tr>\n",
       "    <tr>\n",
       "      <th>4</th>\n",
       "      <td>ham</td>\n",
       "      <td>Nah I don't think he goes to usf, he lives aro...</td>\n",
       "    </tr>\n",
       "    <tr>\n",
       "      <th>5</th>\n",
       "      <td>spam</td>\n",
       "      <td>FreeMsg Hey there darling it's been 3 week's n...</td>\n",
       "    </tr>\n",
       "    <tr>\n",
       "      <th>6</th>\n",
       "      <td>ham</td>\n",
       "      <td>Even my brother is not like to speak with me. ...</td>\n",
       "    </tr>\n",
       "    <tr>\n",
       "      <th>7</th>\n",
       "      <td>ham</td>\n",
       "      <td>As per your request 'Melle Melle (Oru Minnamin...</td>\n",
       "    </tr>\n",
       "    <tr>\n",
       "      <th>8</th>\n",
       "      <td>spam</td>\n",
       "      <td>WINNER!! As a valued network customer you have...</td>\n",
       "    </tr>\n",
       "    <tr>\n",
       "      <th>9</th>\n",
       "      <td>spam</td>\n",
       "      <td>Had your mobile 11 months or more? U R entitle...</td>\n",
       "    </tr>\n",
       "  </tbody>\n",
       "</table>\n",
       "</div>"
      ],
      "text/plain": [
       "  Classifier                                               Text\n",
       "0        ham  Go until jurong point, crazy.. Available only ...\n",
       "1        ham                      Ok lar... Joking wif u oni...\n",
       "2       spam  Free entry in 2 a wkly comp to win FA Cup fina...\n",
       "3        ham  U dun say so early hor... U c already then say...\n",
       "4        ham  Nah I don't think he goes to usf, he lives aro...\n",
       "5       spam  FreeMsg Hey there darling it's been 3 week's n...\n",
       "6        ham  Even my brother is not like to speak with me. ...\n",
       "7        ham  As per your request 'Melle Melle (Oru Minnamin...\n",
       "8       spam  WINNER!! As a valued network customer you have...\n",
       "9       spam  Had your mobile 11 months or more? U R entitle..."
      ]
     },
     "execution_count": 133,
     "metadata": {
      "tags": []
     },
     "output_type": "execute_result"
    }
   ],
   "source": [
    "import pandas as pd\n",
    "import re\n",
    "\n",
    "# Reading in csv\n",
    "data = pd.read_csv(\"SMSSpamCollectionFormatted.csv\")\n",
    "# Renaming columns to descriptive names\n",
    "data.rename(columns = {'Column1' : \"Classifier\", \"Column2\" : \"Text\"}, inplace = True)\n",
    "\n",
    "data.head(10)"
   ]
  },
  {
   "cell_type": "markdown",
   "metadata": {
    "colab_type": "text",
    "id": "g59gcCGW1fBp"
   },
   "source": [
    "_*Note that __\"spam\"__ means a spam message, and __\"ham\"__ means a non-spam message._\n",
    "\n",
    "### __Descriptive statistics of the dataset__\n",
    "\n",
    "To get a general feel of the dataset, we wanted to figure out what percentage of the dataset consisted of spam messages in particular, so we ran the following:\n",
    "\n"
   ]
  },
  {
   "cell_type": "code",
   "execution_count": 0,
   "metadata": {
    "colab": {
     "base_uri": "https://localhost:8080/",
     "height": 34
    },
    "colab_type": "code",
    "id": "F6rmT0R8-X1a",
    "outputId": "66890735-7e6b-4487-8626-f68e35b02a12"
   },
   "outputs": [
    {
     "name": "stdout",
     "output_type": "stream",
     "text": [
      "Total: 5574, Spam %: 0.1340150699677072, Non-spam %: 0.8659849300322928\n"
     ]
    }
   ],
   "source": [
    "non_spam_count = list(data['Classifier']).count('ham')\n",
    "spam_count = list(data['Classifier']).count('spam')\n",
    "total = data.shape[0]\n",
    "\n",
    "print(\"Total: \" + str(total) + \", Spam %: \" + str(spam_count/total) + \", Non-spam %: \" + str(non_spam_count/total))"
   ]
  },
  {
   "cell_type": "markdown",
   "metadata": {
    "colab_type": "text",
    "id": "kP31RxhRHIo4"
   },
   "source": [
    "Total number of messages is 5574, 13.47% of the dataset (747 posts) are spam, and the other 86.53% of the dataset (4827 posts) is non-spam."
   ]
  },
  {
   "cell_type": "markdown",
   "metadata": {
    "colab_type": "text",
    "id": "62le6uMa1w_Z"
   },
   "source": [
    "## __Data Processing/Cleaning__\n",
    "\n",
    "We started off with brainstorming about what attributes of messges could be useful in deciding whether a message was spam or not. We decided on 3 patterns we thought would be decent predictors, namely:\n",
    "\n",
    "1) __Capital letter__ (hypothesis is that non-spam will have less capital letters than spam, as from our personal experiences we have received a lot of spam messages of the form \"CLICK HERE NOW TO...\")\n",
    "\n",
    "2) __Emoticon usage__ (hypothesis is that non-spam will have more emoticons than spam, because we predict that humans use emoticons more often for personal messages)\n",
    "\n",
    "3) __Usage of specific words__ (we thought that from our personal experiences with spam, we would be able to identify some of the more common words used in spam messages, and use such a \"spam words list\" as a filter for spam vs. non-spam messages)\n",
    "\n",
    "We performed exploratory data analysis to determine which of the above three predictors would be worthwhile to investigate further. We start off with diving deeper into capital letter usage.\n",
    "\n"
   ]
  },
  {
   "cell_type": "markdown",
   "metadata": {
    "colab_type": "text",
    "id": "zX6ldcMoDD_W"
   },
   "source": [
    "###__Capital Letter Usage__\n",
    "When we looked at capital letter usage, we decided to compare the amount of uppercase letters to the total amount of letters in the message. We put the percentages in a list along with the attached messages. After getting the percentage, we decided to create a threshold percentage before the message is considered as spam in our list. To be considered a success, the amount of false positives (hams in our list of spams) should be low, and the amount of spam caught out of the total spam should be high. We tested multiple thresholds, from 5% up to 20%, and found that for all the thresholds tested, the amount of spam missed was over 40%, and the amount of false positives was at best, a little less than 50% of the data put into our “spam list”. The best threshold we found was 10% capital letters."
   ]
  },
  {
   "cell_type": "code",
   "execution_count": 0,
   "metadata": {
    "colab": {
     "base_uri": "https://localhost:8080/",
     "height": 204
    },
    "colab_type": "code",
    "id": "NwtuTrIv-YHQ",
    "outputId": "d1fc6e31-4401-4392-b0ea-cc14055d440f"
   },
   "outputs": [
    {
     "data": {
      "text/html": [
       "<div>\n",
       "<style scoped>\n",
       "    .dataframe tbody tr th:only-of-type {\n",
       "        vertical-align: middle;\n",
       "    }\n",
       "\n",
       "    .dataframe tbody tr th {\n",
       "        vertical-align: top;\n",
       "    }\n",
       "\n",
       "    .dataframe thead th {\n",
       "        text-align: right;\n",
       "    }\n",
       "</style>\n",
       "<table border=\"1\" class=\"dataframe\">\n",
       "  <thead>\n",
       "    <tr style=\"text-align: right;\">\n",
       "      <th></th>\n",
       "      <th>Classifier</th>\n",
       "      <th>Text</th>\n",
       "      <th>% of upper</th>\n",
       "    </tr>\n",
       "  </thead>\n",
       "  <tbody>\n",
       "    <tr>\n",
       "      <th>0</th>\n",
       "      <td>ham</td>\n",
       "      <td>Go until jurong point, crazy.. Available only ...</td>\n",
       "      <td>0.027027</td>\n",
       "    </tr>\n",
       "    <tr>\n",
       "      <th>1</th>\n",
       "      <td>ham</td>\n",
       "      <td>Ok lar... Joking wif u oni...</td>\n",
       "      <td>0.068966</td>\n",
       "    </tr>\n",
       "    <tr>\n",
       "      <th>2</th>\n",
       "      <td>spam</td>\n",
       "      <td>Free entry in 2 a wkly comp to win FA Cup fina...</td>\n",
       "      <td>0.064516</td>\n",
       "    </tr>\n",
       "    <tr>\n",
       "      <th>3</th>\n",
       "      <td>ham</td>\n",
       "      <td>U dun say so early hor... U c already then say...</td>\n",
       "      <td>0.040816</td>\n",
       "    </tr>\n",
       "    <tr>\n",
       "      <th>4</th>\n",
       "      <td>ham</td>\n",
       "      <td>Nah I don't think he goes to usf, he lives aro...</td>\n",
       "      <td>0.032787</td>\n",
       "    </tr>\n",
       "  </tbody>\n",
       "</table>\n",
       "</div>"
      ],
      "text/plain": [
       "  Classifier                                               Text  % of upper\n",
       "0        ham  Go until jurong point, crazy.. Available only ...    0.027027\n",
       "1        ham                      Ok lar... Joking wif u oni...    0.068966\n",
       "2       spam  Free entry in 2 a wkly comp to win FA Cup fina...    0.064516\n",
       "3        ham  U dun say so early hor... U c already then say...    0.040816\n",
       "4        ham  Nah I don't think he goes to usf, he lives aro...    0.032787"
      ]
     },
     "execution_count": 135,
     "metadata": {
      "tags": []
     },
     "output_type": "execute_result"
    }
   ],
   "source": [
    "# Capital letters\n",
    "\n",
    "uppercase_list = []\n",
    "\n",
    "for i in range(data.shape[0]) :\n",
    "  curr_text = data['Text'][i]\n",
    "  upper_count = 0\n",
    "  total_count = len(curr_text)\n",
    "  for c in curr_text:\n",
    "    if c.isupper() :\n",
    "      upper_count += 1\n",
    "  uppercase_list.append(upper_count/total_count)\n",
    "data['% of upper'] = uppercase_list\n",
    "data.head()"
   ]
  },
  {
   "cell_type": "code",
   "execution_count": 0,
   "metadata": {
    "colab": {
     "base_uri": "https://localhost:8080/",
     "height": 669
    },
    "colab_type": "code",
    "id": "RWwUpQLFPSGs",
    "outputId": "78f045dd-ea71-457e-ad6a-f241fd136dc6"
   },
   "outputs": [
    {
     "data": {
      "text/html": [
       "<div>\n",
       "<style scoped>\n",
       "    .dataframe tbody tr th:only-of-type {\n",
       "        vertical-align: middle;\n",
       "    }\n",
       "\n",
       "    .dataframe tbody tr th {\n",
       "        vertical-align: top;\n",
       "    }\n",
       "\n",
       "    .dataframe thead th {\n",
       "        text-align: right;\n",
       "    }\n",
       "</style>\n",
       "<table border=\"1\" class=\"dataframe\">\n",
       "  <thead>\n",
       "    <tr style=\"text-align: right;\">\n",
       "      <th></th>\n",
       "      <th>Classifier</th>\n",
       "      <th>Text</th>\n",
       "      <th>% of upper</th>\n",
       "    </tr>\n",
       "  </thead>\n",
       "  <tbody>\n",
       "    <tr>\n",
       "      <th>11</th>\n",
       "      <td>spam</td>\n",
       "      <td>SIX chances to win CASH! From 100 to 20,000 po...</td>\n",
       "      <td>0.125000</td>\n",
       "    </tr>\n",
       "    <tr>\n",
       "      <th>12</th>\n",
       "      <td>spam</td>\n",
       "      <td>URGENT! You have won a 1 week FREE membership ...</td>\n",
       "      <td>0.258065</td>\n",
       "    </tr>\n",
       "    <tr>\n",
       "      <th>14</th>\n",
       "      <td>ham</td>\n",
       "      <td>I HAVE A DATE ON SUNDAY WITH WILL!!</td>\n",
       "      <td>0.742857</td>\n",
       "    </tr>\n",
       "    <tr>\n",
       "      <th>15</th>\n",
       "      <td>spam</td>\n",
       "      <td>XXXMobileMovieClub: To use your credit, click ...</td>\n",
       "      <td>0.154362</td>\n",
       "    </tr>\n",
       "    <tr>\n",
       "      <th>19</th>\n",
       "      <td>spam</td>\n",
       "      <td>England v Macedonia - dont miss the goals/team...</td>\n",
       "      <td>0.206452</td>\n",
       "    </tr>\n",
       "    <tr>\n",
       "      <th>43</th>\n",
       "      <td>ham</td>\n",
       "      <td>WHO ARE YOU SEEING?</td>\n",
       "      <td>0.789474</td>\n",
       "    </tr>\n",
       "    <tr>\n",
       "      <th>54</th>\n",
       "      <td>spam</td>\n",
       "      <td>SMS. ac Sptv: The New Jersey Devils and the De...</td>\n",
       "      <td>0.200000</td>\n",
       "    </tr>\n",
       "    <tr>\n",
       "      <th>62</th>\n",
       "      <td>ham</td>\n",
       "      <td>Its a part of checking IQ</td>\n",
       "      <td>0.120000</td>\n",
       "    </tr>\n",
       "    <tr>\n",
       "      <th>67</th>\n",
       "      <td>spam</td>\n",
       "      <td>Urgent UR awarded a complimentary trip to Euro...</td>\n",
       "      <td>0.150943</td>\n",
       "    </tr>\n",
       "    <tr>\n",
       "      <th>72</th>\n",
       "      <td>ham</td>\n",
       "      <td>HI BABE IM AT HOME NOW WANNA DO SOMETHING? XX</td>\n",
       "      <td>0.777778</td>\n",
       "    </tr>\n",
       "    <tr>\n",
       "      <th>92</th>\n",
       "      <td>ham</td>\n",
       "      <td>Smile in Pleasure Smile in Pain Smile when tro...</td>\n",
       "      <td>0.134752</td>\n",
       "    </tr>\n",
       "    <tr>\n",
       "      <th>95</th>\n",
       "      <td>spam</td>\n",
       "      <td>Your free ringtone is waiting to be collected....</td>\n",
       "      <td>0.113924</td>\n",
       "    </tr>\n",
       "    <tr>\n",
       "      <th>114</th>\n",
       "      <td>spam</td>\n",
       "      <td>GENT! We are trying to contact you. Last weeke...</td>\n",
       "      <td>0.132911</td>\n",
       "    </tr>\n",
       "    <tr>\n",
       "      <th>120</th>\n",
       "      <td>spam</td>\n",
       "      <td>PRIVATE! Your 2004 Account Statement for 07742...</td>\n",
       "      <td>0.111111</td>\n",
       "    </tr>\n",
       "    <tr>\n",
       "      <th>121</th>\n",
       "      <td>spam</td>\n",
       "      <td>URGENT! Your Mobile No. was awarded £2000 Bonu...</td>\n",
       "      <td>0.160256</td>\n",
       "    </tr>\n",
       "    <tr>\n",
       "      <th>129</th>\n",
       "      <td>ham</td>\n",
       "      <td>HEY GIRL. HOW R U? HOPE U R WELL ME AN DEL R B...</td>\n",
       "      <td>0.700935</td>\n",
       "    </tr>\n",
       "    <tr>\n",
       "      <th>131</th>\n",
       "      <td>ham</td>\n",
       "      <td>I'm home.</td>\n",
       "      <td>0.111111</td>\n",
       "    </tr>\n",
       "    <tr>\n",
       "      <th>134</th>\n",
       "      <td>spam</td>\n",
       "      <td>Sunshine Quiz Wkly Q! Win a top Sony DVD playe...</td>\n",
       "      <td>0.112000</td>\n",
       "    </tr>\n",
       "    <tr>\n",
       "      <th>164</th>\n",
       "      <td>spam</td>\n",
       "      <td>-PLS STOP bootydelious (32/F) is inviting you ...</td>\n",
       "      <td>0.203947</td>\n",
       "    </tr>\n",
       "    <tr>\n",
       "      <th>165</th>\n",
       "      <td>spam</td>\n",
       "      <td>BangBabes Ur order is on the way. U SHOULD rec...</td>\n",
       "      <td>0.129032</td>\n",
       "    </tr>\n",
       "  </tbody>\n",
       "</table>\n",
       "</div>"
      ],
      "text/plain": [
       "    Classifier                                               Text  % of upper\n",
       "11        spam  SIX chances to win CASH! From 100 to 20,000 po...    0.125000\n",
       "12        spam  URGENT! You have won a 1 week FREE membership ...    0.258065\n",
       "14         ham                I HAVE A DATE ON SUNDAY WITH WILL!!    0.742857\n",
       "15        spam  XXXMobileMovieClub: To use your credit, click ...    0.154362\n",
       "19        spam  England v Macedonia - dont miss the goals/team...    0.206452\n",
       "43         ham                                WHO ARE YOU SEEING?    0.789474\n",
       "54        spam  SMS. ac Sptv: The New Jersey Devils and the De...    0.200000\n",
       "62         ham                          Its a part of checking IQ    0.120000\n",
       "67        spam  Urgent UR awarded a complimentary trip to Euro...    0.150943\n",
       "72         ham      HI BABE IM AT HOME NOW WANNA DO SOMETHING? XX    0.777778\n",
       "92         ham  Smile in Pleasure Smile in Pain Smile when tro...    0.134752\n",
       "95        spam  Your free ringtone is waiting to be collected....    0.113924\n",
       "114       spam  GENT! We are trying to contact you. Last weeke...    0.132911\n",
       "120       spam  PRIVATE! Your 2004 Account Statement for 07742...    0.111111\n",
       "121       spam  URGENT! Your Mobile No. was awarded £2000 Bonu...    0.160256\n",
       "129        ham  HEY GIRL. HOW R U? HOPE U R WELL ME AN DEL R B...    0.700935\n",
       "131        ham                                          I'm home.    0.111111\n",
       "134       spam  Sunshine Quiz Wkly Q! Win a top Sony DVD playe...    0.112000\n",
       "164       spam  -PLS STOP bootydelious (32/F) is inviting you ...    0.203947\n",
       "165       spam  BangBabes Ur order is on the way. U SHOULD rec...    0.129032"
      ]
     },
     "execution_count": 136,
     "metadata": {
      "tags": []
     },
     "output_type": "execute_result"
    }
   ],
   "source": [
    "# Showing a small sample of messages that are made up of more than 10% upper-case letter\n",
    "data_mostly_upper = data[data['% of upper'] > 0.10]\n",
    "data_mostly_upper.head(20)"
   ]
  },
  {
   "cell_type": "code",
   "execution_count": 0,
   "metadata": {
    "colab": {
     "base_uri": "https://localhost:8080/",
     "height": 34
    },
    "colab_type": "code",
    "id": "AP-GSCJmPl2w",
    "outputId": "c3b6e6f4-b13b-4a84-dbb4-1ac5dffd9480"
   },
   "outputs": [
    {
     "data": {
      "text/plain": [
       "(697, 3)"
      ]
     },
     "execution_count": 137,
     "metadata": {
      "tags": []
     },
     "output_type": "execute_result"
    }
   ],
   "source": [
    "# Total number of messages that are greater than 10% upper-case letters\n",
    "data_mostly_upper.shape"
   ]
  },
  {
   "cell_type": "code",
   "execution_count": 0,
   "metadata": {
    "colab": {
     "base_uri": "https://localhost:8080/",
     "height": 34
    },
    "colab_type": "code",
    "id": "5dCKvqS9Pn7q",
    "outputId": "c958815f-4e0d-4331-d0aa-6b8320ea5350"
   },
   "outputs": [
    {
     "data": {
      "text/plain": [
       "364"
      ]
     },
     "execution_count": 138,
     "metadata": {
      "tags": []
     },
     "output_type": "execute_result"
    }
   ],
   "source": [
    "# Total number of \"ham\" messages that are greater than 10% upper-case letters\n",
    "list(data_mostly_upper['Classifier']).count('spam')"
   ]
  },
  {
   "cell_type": "code",
   "execution_count": 0,
   "metadata": {
    "colab": {
     "base_uri": "https://localhost:8080/",
     "height": 359
    },
    "colab_type": "code",
    "id": "q9541HFUQsl2",
    "outputId": "6a957db8-934f-4629-cb44-4a0b6675a118"
   },
   "outputs": [
    {
     "data": {
      "text/html": [
       "<div>\n",
       "<style scoped>\n",
       "    .dataframe tbody tr th:only-of-type {\n",
       "        vertical-align: middle;\n",
       "    }\n",
       "\n",
       "    .dataframe tbody tr th {\n",
       "        vertical-align: top;\n",
       "    }\n",
       "\n",
       "    .dataframe thead th {\n",
       "        text-align: right;\n",
       "    }\n",
       "</style>\n",
       "<table border=\"1\" class=\"dataframe\">\n",
       "  <thead>\n",
       "    <tr style=\"text-align: right;\">\n",
       "      <th></th>\n",
       "      <th>Classifier</th>\n",
       "      <th>Text</th>\n",
       "      <th>% of upper</th>\n",
       "    </tr>\n",
       "  </thead>\n",
       "  <tbody>\n",
       "    <tr>\n",
       "      <th>0</th>\n",
       "      <td>ham</td>\n",
       "      <td>Go until jurong point, crazy.. Available only ...</td>\n",
       "      <td>0.027027</td>\n",
       "    </tr>\n",
       "    <tr>\n",
       "      <th>1</th>\n",
       "      <td>ham</td>\n",
       "      <td>Ok lar... Joking wif u oni...</td>\n",
       "      <td>0.068966</td>\n",
       "    </tr>\n",
       "    <tr>\n",
       "      <th>2</th>\n",
       "      <td>spam</td>\n",
       "      <td>Free entry in 2 a wkly comp to win FA Cup fina...</td>\n",
       "      <td>0.064516</td>\n",
       "    </tr>\n",
       "    <tr>\n",
       "      <th>3</th>\n",
       "      <td>ham</td>\n",
       "      <td>U dun say so early hor... U c already then say...</td>\n",
       "      <td>0.040816</td>\n",
       "    </tr>\n",
       "    <tr>\n",
       "      <th>4</th>\n",
       "      <td>ham</td>\n",
       "      <td>Nah I don't think he goes to usf, he lives aro...</td>\n",
       "      <td>0.032787</td>\n",
       "    </tr>\n",
       "    <tr>\n",
       "      <th>5</th>\n",
       "      <td>spam</td>\n",
       "      <td>FreeMsg Hey there darling it's been 3 week's n...</td>\n",
       "      <td>0.047619</td>\n",
       "    </tr>\n",
       "    <tr>\n",
       "      <th>6</th>\n",
       "      <td>ham</td>\n",
       "      <td>Even my brother is not like to speak with me. ...</td>\n",
       "      <td>0.025974</td>\n",
       "    </tr>\n",
       "    <tr>\n",
       "      <th>7</th>\n",
       "      <td>ham</td>\n",
       "      <td>As per your request 'Melle Melle (Oru Minnamin...</td>\n",
       "      <td>0.062500</td>\n",
       "    </tr>\n",
       "    <tr>\n",
       "      <th>8</th>\n",
       "      <td>spam</td>\n",
       "      <td>WINNER!! As a valued network customer you have...</td>\n",
       "      <td>0.076433</td>\n",
       "    </tr>\n",
       "    <tr>\n",
       "      <th>9</th>\n",
       "      <td>spam</td>\n",
       "      <td>Had your mobile 11 months or more? U R entitle...</td>\n",
       "      <td>0.090909</td>\n",
       "    </tr>\n",
       "  </tbody>\n",
       "</table>\n",
       "</div>"
      ],
      "text/plain": [
       "  Classifier                                               Text  % of upper\n",
       "0        ham  Go until jurong point, crazy.. Available only ...    0.027027\n",
       "1        ham                      Ok lar... Joking wif u oni...    0.068966\n",
       "2       spam  Free entry in 2 a wkly comp to win FA Cup fina...    0.064516\n",
       "3        ham  U dun say so early hor... U c already then say...    0.040816\n",
       "4        ham  Nah I don't think he goes to usf, he lives aro...    0.032787\n",
       "5       spam  FreeMsg Hey there darling it's been 3 week's n...    0.047619\n",
       "6        ham  Even my brother is not like to speak with me. ...    0.025974\n",
       "7        ham  As per your request 'Melle Melle (Oru Minnamin...    0.062500\n",
       "8       spam  WINNER!! As a valued network customer you have...    0.076433\n",
       "9       spam  Had your mobile 11 months or more? U R entitle...    0.090909"
      ]
     },
     "execution_count": 139,
     "metadata": {
      "tags": []
     },
     "output_type": "execute_result"
    }
   ],
   "source": [
    "# Showing a small sample of messages that are made up of less than 10% upper-case letter\n",
    "data_mostly_lower = pd.concat([data, data_mostly_upper]).drop_duplicates()\n",
    "data_mostly_lower.head(10)"
   ]
  },
  {
   "cell_type": "code",
   "execution_count": 0,
   "metadata": {
    "colab": {
     "base_uri": "https://localhost:8080/",
     "height": 34
    },
    "colab_type": "code",
    "id": "ANe-mgebRQK9",
    "outputId": "ef5f6f86-313e-4f08-c098-5aee802c2a6f"
   },
   "outputs": [
    {
     "data": {
      "text/plain": [
       "(5171, 3)"
      ]
     },
     "execution_count": 140,
     "metadata": {
      "tags": []
     },
     "output_type": "execute_result"
    }
   ],
   "source": [
    "# Total number of messages that are less than 10% upper-case letters\n",
    "data_mostly_lower.shape"
   ]
  },
  {
   "cell_type": "code",
   "execution_count": 0,
   "metadata": {
    "colab": {
     "base_uri": "https://localhost:8080/",
     "height": 34
    },
    "colab_type": "code",
    "id": "gMwxfGa6RNaq",
    "outputId": "97e370c2-2967-44a0-8548-f83ccf93e5b2"
   },
   "outputs": [
    {
     "data": {
      "text/plain": [
       "4518"
      ]
     },
     "execution_count": 141,
     "metadata": {
      "tags": []
     },
     "output_type": "execute_result"
    }
   ],
   "source": [
    "# Total number of \"ham\" messages that are less than 10% upper-case letters\n",
    "list(data_mostly_lower['Classifier']).count('ham')"
   ]
  },
  {
   "cell_type": "markdown",
   "metadata": {
    "colab_type": "text",
    "id": "Fbqt7AOPQQ1O"
   },
   "source": [
    "__Analysis of results from code above:__\n",
    "\n",
    "Using 10% as the threshold for percentage of capital letters used / lowercase letters used (where if a post's percentage of capital letters is above 10% threshold implies it is spam, and not spam otherwise), we were able to catch 364/697 = 52.22% of spam posts.\n",
    "\n",
    "Below the 10% threshold, we had 4518/5170 = 87.39 non spam posts.\n",
    "5170-4518 = 652 spam messages not detected, which is an error rate of 652/747 = 87.28%\n",
    "\n",
    "__Conclusion__: do not use capital letters as predictors in machine learning modeling task, since the error rate is too high. "
   ]
  },
  {
   "cell_type": "markdown",
   "metadata": {
    "colab_type": "text",
    "id": "x14-hhqF-igk"
   },
   "source": [
    "### __Predict spam vs non-spam using emoticons?__\n",
    "\n",
    "General question: does the presence of emoticons mean that the message is not spam?\n",
    "\n",
    "When we looked at emoticon usage, we created a set of regex to compare against each message, and the code marks the message with the corresponding emoticon. Regex is code that can be used on strings to help detect patterns or impose restrictions on the strings, based on what you do with the regex. Here is a link in case you want to know more about regex:\n",
    "https://developers.google.com/edu/python/regular-expressions#basic-examples. Once we found emoticons, we converted it to simpler representations so that we can detect the emoticons better. Then we create a separate list for each emoticon type, and go through the data, placing the messages in their respective lists according to what emoticon they have. We also combined the lists into a bigger list in order to have a master list of messages with emoticons. We then check how many of these messages are spam by looking at the master list (checking for false positives)."
   ]
  },
  {
   "cell_type": "code",
   "execution_count": 0,
   "metadata": {
    "colab": {
     "base_uri": "https://localhost:8080/",
     "height": 119
    },
    "colab_type": "code",
    "id": "Cq2eIxBQ-YTU",
    "outputId": "facc94b9-1d5c-427f-b76a-a8da393a0a36"
   },
   "outputs": [
    {
     "data": {
      "text/plain": [
       "{'angry': 0,\n",
       " 'frown': 13,\n",
       " 'frown/wink': 17,\n",
       " 'heart': 0,\n",
       " 'smile': 252,\n",
       " 'smile/wink': 116}"
      ]
     },
     "execution_count": 142,
     "metadata": {
      "tags": []
     },
     "output_type": "execute_result"
    }
   ],
   "source": [
    "# Converting emoticons in messages into a variable name for easy identification\n",
    "t = data['Text'].map(\n",
    "    lambda text: re.sub(':\\)|\\(:|:\\-\\)|\\(\\-:|=\\)|\\(=', 'emoticon_smile_face', #smile_face = :) or (: or :-) or (-: or =) or (=\n",
    "        re.sub(';\\)|\\(;|:\\-\\)|\\(\\-;', 'emoticon_smile_wink_face', #smile_wink_face = ;) or (; or ;-) or (-;\n",
    "        re.sub(':\\(|\\(:|:\\-\\(|\\(\\-:|=\\(|\\(=', 'emoticon_frown_face', #frown_face = :( or ): or :-( or )-: or =( or )=\n",
    "        re.sub(';\\(|\\(;|:\\-\\(|\\(\\-;', 'emoticon_frown_wink_face', #frown_wink_face = ;( or ); or ;-( or )-;\n",
    "        re.sub('>:\\(|\\):<', 'emoticon_angry_face', #angry_face = >:( or ):<\n",
    "        re.sub('<3', 'emoticon_heart', text))))))) #heart_typed = <3\n",
    "k = \" \".join(t)\n",
    "\n",
    "# Finding the number of emoticons used in the entire dataset\n",
    "agg = {'smile' : len(re.findall('emoticon_smile_face', k)), 'smile/wink' : len(re.findall('emoticon_smile_wink_face', k)), \n",
    "       'frown' : len(re.findall('emoticon_frown_face', k)), 'frown/wink' : len(re.findall('emoticon_frown_wink_face', k)),\n",
    "       'angry' : len(re.findall('emoticon_angry_face', k)), 'heart' : len(re.findall('emoticon_heart', k))}\n",
    "agg"
   ]
  },
  {
   "cell_type": "code",
   "execution_count": 0,
   "metadata": {
    "colab": {
     "base_uri": "https://localhost:8080/",
     "height": 204
    },
    "colab_type": "code",
    "id": "cFGWMiHDB0e8",
    "outputId": "d556154b-ff80-4026-dc18-54b0f1f31db9"
   },
   "outputs": [
    {
     "data": {
      "text/html": [
       "<div>\n",
       "<style scoped>\n",
       "    .dataframe tbody tr th:only-of-type {\n",
       "        vertical-align: middle;\n",
       "    }\n",
       "\n",
       "    .dataframe tbody tr th {\n",
       "        vertical-align: top;\n",
       "    }\n",
       "\n",
       "    .dataframe thead th {\n",
       "        text-align: right;\n",
       "    }\n",
       "</style>\n",
       "<table border=\"1\" class=\"dataframe\">\n",
       "  <thead>\n",
       "    <tr style=\"text-align: right;\">\n",
       "      <th></th>\n",
       "      <th>Classifier</th>\n",
       "      <th>Text</th>\n",
       "      <th>% of upper</th>\n",
       "      <th>Has Emote?</th>\n",
       "    </tr>\n",
       "  </thead>\n",
       "  <tbody>\n",
       "    <tr>\n",
       "      <th>16</th>\n",
       "      <td>ham</td>\n",
       "      <td>Oh k...i'm watching here:)</td>\n",
       "      <td>0.038462</td>\n",
       "      <td>True</td>\n",
       "    </tr>\n",
       "    <tr>\n",
       "      <th>73</th>\n",
       "      <td>ham</td>\n",
       "      <td>K..k:)where are you?how did you performed?</td>\n",
       "      <td>0.023810</td>\n",
       "      <td>True</td>\n",
       "    </tr>\n",
       "    <tr>\n",
       "      <th>77</th>\n",
       "      <td>ham</td>\n",
       "      <td>I like you peoples very much:) but am very shy...</td>\n",
       "      <td>0.020000</td>\n",
       "      <td>True</td>\n",
       "    </tr>\n",
       "    <tr>\n",
       "      <th>130</th>\n",
       "      <td>ham</td>\n",
       "      <td>K..k:)how much does it cost?</td>\n",
       "      <td>0.035714</td>\n",
       "      <td>True</td>\n",
       "    </tr>\n",
       "    <tr>\n",
       "      <th>162</th>\n",
       "      <td>ham</td>\n",
       "      <td>New car and house for my parents.:)i have only...</td>\n",
       "      <td>0.015625</td>\n",
       "      <td>True</td>\n",
       "    </tr>\n",
       "  </tbody>\n",
       "</table>\n",
       "</div>"
      ],
      "text/plain": [
       "    Classifier  ... Has Emote?\n",
       "16         ham  ...       True\n",
       "73         ham  ...       True\n",
       "77         ham  ...       True\n",
       "130        ham  ...       True\n",
       "162        ham  ...       True\n",
       "\n",
       "[5 rows x 4 columns]"
      ]
     },
     "execution_count": 143,
     "metadata": {
      "tags": []
     },
     "output_type": "execute_result"
    }
   ],
   "source": [
    "# Create lists to keep track of emoticons (t/f if present)\n",
    "t2 = t.map(lambda text: True if re.search('emoticon_smile_face', text) else False)\n",
    "t3 = t.map(lambda text: True if re.search('emoticon_smile_wink_face', text) else False)\n",
    "t4 = t.map(lambda text: True if re.search('emoticon_frown_face', text) else False)\n",
    "t5 = t.map(lambda text: True if re.search('emoticon_frown_wink_face', text) else False)\n",
    "\n",
    "# Combined list to keep track of whether there was any emoticon whatsoever\n",
    "# Will use that to subset the original dataset and get a set of sms messages all with some type of emoticon\n",
    "\n",
    "emoticons_present = []\n",
    "\n",
    "for i in range(len(t2)) :\n",
    "  if t2[i] or t3[i] or t4[i] or t5[i] :\n",
    "    emoticons_present.append(True)\n",
    "  else :\n",
    "    emoticons_present.append(False)\n",
    "\n",
    "data['Has Emote?'] = emoticons_present\n",
    "data_with_emote = data[data['Has Emote?'] == True]\n",
    "data_with_emote.head()"
   ]
  },
  {
   "cell_type": "code",
   "execution_count": 0,
   "metadata": {
    "colab": {
     "base_uri": "https://localhost:8080/",
     "height": 34
    },
    "colab_type": "code",
    "id": "kNO-7vS5FkvJ",
    "outputId": "4d2cff64-4ac6-4204-c159-f5d04549f1ce"
   },
   "outputs": [
    {
     "data": {
      "text/plain": [
       "(334, 4)"
      ]
     },
     "execution_count": 144,
     "metadata": {
      "tags": []
     },
     "output_type": "execute_result"
    }
   ],
   "source": [
    "# ~6% of original data has emoticons\n",
    "data_with_emote.shape"
   ]
  },
  {
   "cell_type": "code",
   "execution_count": 0,
   "metadata": {
    "colab": {
     "base_uri": "https://localhost:8080/",
     "height": 204
    },
    "colab_type": "code",
    "id": "0PiLRHcqFnkj",
    "outputId": "618bb57e-f217-459b-e8fa-9c8679fccb31"
   },
   "outputs": [
    {
     "data": {
      "text/html": [
       "<div>\n",
       "<style scoped>\n",
       "    .dataframe tbody tr th:only-of-type {\n",
       "        vertical-align: middle;\n",
       "    }\n",
       "\n",
       "    .dataframe tbody tr th {\n",
       "        vertical-align: top;\n",
       "    }\n",
       "\n",
       "    .dataframe thead th {\n",
       "        text-align: right;\n",
       "    }\n",
       "</style>\n",
       "<table border=\"1\" class=\"dataframe\">\n",
       "  <thead>\n",
       "    <tr style=\"text-align: right;\">\n",
       "      <th></th>\n",
       "      <th>index</th>\n",
       "      <th>Classifier</th>\n",
       "      <th>Text</th>\n",
       "      <th>% of upper</th>\n",
       "      <th>Has Emote?</th>\n",
       "    </tr>\n",
       "  </thead>\n",
       "  <tbody>\n",
       "    <tr>\n",
       "      <th>0</th>\n",
       "      <td>16</td>\n",
       "      <td>ham</td>\n",
       "      <td>Oh k...i'm watching here:)</td>\n",
       "      <td>0.038462</td>\n",
       "      <td>True</td>\n",
       "    </tr>\n",
       "    <tr>\n",
       "      <th>1</th>\n",
       "      <td>73</td>\n",
       "      <td>ham</td>\n",
       "      <td>K..k:)where are you?how did you performed?</td>\n",
       "      <td>0.023810</td>\n",
       "      <td>True</td>\n",
       "    </tr>\n",
       "    <tr>\n",
       "      <th>2</th>\n",
       "      <td>77</td>\n",
       "      <td>ham</td>\n",
       "      <td>I like you peoples very much:) but am very shy...</td>\n",
       "      <td>0.020000</td>\n",
       "      <td>True</td>\n",
       "    </tr>\n",
       "    <tr>\n",
       "      <th>3</th>\n",
       "      <td>130</td>\n",
       "      <td>ham</td>\n",
       "      <td>K..k:)how much does it cost?</td>\n",
       "      <td>0.035714</td>\n",
       "      <td>True</td>\n",
       "    </tr>\n",
       "    <tr>\n",
       "      <th>4</th>\n",
       "      <td>162</td>\n",
       "      <td>ham</td>\n",
       "      <td>New car and house for my parents.:)i have only...</td>\n",
       "      <td>0.015625</td>\n",
       "      <td>True</td>\n",
       "    </tr>\n",
       "  </tbody>\n",
       "</table>\n",
       "</div>"
      ],
      "text/plain": [
       "   index Classifier  ... % of upper  Has Emote?\n",
       "0     16        ham  ...   0.038462        True\n",
       "1     73        ham  ...   0.023810        True\n",
       "2     77        ham  ...   0.020000        True\n",
       "3    130        ham  ...   0.035714        True\n",
       "4    162        ham  ...   0.015625        True\n",
       "\n",
       "[5 rows x 5 columns]"
      ]
     },
     "execution_count": 145,
     "metadata": {
      "tags": []
     },
     "output_type": "execute_result"
    }
   ],
   "source": [
    "# Listing messages that have emoticons in them\n",
    "data_with_emote = data_with_emote.reset_index()\n",
    "data_with_emote.head()"
   ]
  },
  {
   "cell_type": "code",
   "execution_count": 0,
   "metadata": {
    "colab": {
     "base_uri": "https://localhost:8080/",
     "height": 34
    },
    "colab_type": "code",
    "id": "mizROhcgF2Y_",
    "outputId": "715744a5-074e-420f-9ba6-6f36a8e561ca"
   },
   "outputs": [
    {
     "data": {
      "text/plain": [
       "False"
      ]
     },
     "execution_count": 146,
     "metadata": {
      "tags": []
     },
     "output_type": "execute_result"
    }
   ],
   "source": [
    "# Seeing if there are any spam messages that have emoticons in them\n",
    "\"spam\" in list(data_with_emote['Classifier'])"
   ]
  },
  {
   "cell_type": "markdown",
   "metadata": {
    "colab_type": "text",
    "id": "uMrKPC3mF-Y0"
   },
   "source": [
    "As predicted, if any emoticon (of the ones we checked for, at least) is present in the SMS, then it is likely that the SMS message is not spam (for our particular dataset, it was 100% accurate in predicting non-spam). It seems like presence/absence of emoticons is a good predictor of spam/not spam, but only a small percentage of non-spam texts actually has emoticons. "
   ]
  },
  {
   "cell_type": "markdown",
   "metadata": {
    "colab_type": "text",
    "id": "piplbkep_AEr"
   },
   "source": [
    "### __Words that are likely to show up in spam__\n",
    "\n",
    "For this part of the experiment, we decided to think of words that we thought would show up often in spam, and use the presence/absence of such \"spam words\" as a predictor of spam vs. non-spam. We though that words like “win”, or “click” would qualify as such \"spam words,\" in the sense that their presence in a message would suggest that a message likely could be spam. After that we brainstormed a list of some typical spam words and checked over the data for each spam word individually. We created a new column in the data where if the message contains at least 1 of any of the words in our \"spam words list,\" then the column will say _true_, otherwise it will say _false_. We then go through the data again, putting all the messages with said column as _true_ into a new list - this list represents the messages which contained at least one \"spam word.\" We then look inside that list and check for false positives, as well as see how the messages in the list compare to the data in total, to judge how good of a predictor this will be.\n",
    "\n",
    "\n",
    "__Brainstorming, we came up with 14 \"spam words\" that will make up our \"spam words list\":__\n",
    "\n",
    "urgent,\n",
    "click,\n",
    "prize,\n",
    "share,\n",
    "winner,\n",
    "win,\n",
    "https,\n",
    "msgs,\n",
    "cash,\n",
    "money,\n",
    "credit,\n",
    "stop,\n",
    "reply,\n",
    "free"
   ]
  },
  {
   "cell_type": "code",
   "execution_count": 0,
   "metadata": {
    "colab": {
     "base_uri": "https://localhost:8080/",
     "height": 204
    },
    "colab_type": "code",
    "id": "p7GNH5Bg-YfM",
    "outputId": "8829358a-ea82-42a4-9505-645e0157b6dc"
   },
   "outputs": [
    {
     "data": {
      "text/html": [
       "<div>\n",
       "<style scoped>\n",
       "    .dataframe tbody tr th:only-of-type {\n",
       "        vertical-align: middle;\n",
       "    }\n",
       "\n",
       "    .dataframe tbody tr th {\n",
       "        vertical-align: top;\n",
       "    }\n",
       "\n",
       "    .dataframe thead th {\n",
       "        text-align: right;\n",
       "    }\n",
       "</style>\n",
       "<table border=\"1\" class=\"dataframe\">\n",
       "  <thead>\n",
       "    <tr style=\"text-align: right;\">\n",
       "      <th></th>\n",
       "      <th>Classifier</th>\n",
       "      <th>Text</th>\n",
       "      <th>% of upper</th>\n",
       "      <th>Has Emote?</th>\n",
       "      <th>Text to lower</th>\n",
       "    </tr>\n",
       "  </thead>\n",
       "  <tbody>\n",
       "    <tr>\n",
       "      <th>0</th>\n",
       "      <td>ham</td>\n",
       "      <td>Go until jurong point, crazy.. Available only ...</td>\n",
       "      <td>0.027027</td>\n",
       "      <td>False</td>\n",
       "      <td>go until jurong point, crazy.. available only ...</td>\n",
       "    </tr>\n",
       "    <tr>\n",
       "      <th>1</th>\n",
       "      <td>ham</td>\n",
       "      <td>Ok lar... Joking wif u oni...</td>\n",
       "      <td>0.068966</td>\n",
       "      <td>False</td>\n",
       "      <td>ok lar... joking wif u oni...</td>\n",
       "    </tr>\n",
       "    <tr>\n",
       "      <th>2</th>\n",
       "      <td>spam</td>\n",
       "      <td>Free entry in 2 a wkly comp to win FA Cup fina...</td>\n",
       "      <td>0.064516</td>\n",
       "      <td>False</td>\n",
       "      <td>free entry in 2 a wkly comp to win fa cup fina...</td>\n",
       "    </tr>\n",
       "    <tr>\n",
       "      <th>3</th>\n",
       "      <td>ham</td>\n",
       "      <td>U dun say so early hor... U c already then say...</td>\n",
       "      <td>0.040816</td>\n",
       "      <td>False</td>\n",
       "      <td>u dun say so early hor... u c already then say...</td>\n",
       "    </tr>\n",
       "    <tr>\n",
       "      <th>4</th>\n",
       "      <td>ham</td>\n",
       "      <td>Nah I don't think he goes to usf, he lives aro...</td>\n",
       "      <td>0.032787</td>\n",
       "      <td>False</td>\n",
       "      <td>nah i don't think he goes to usf, he lives aro...</td>\n",
       "    </tr>\n",
       "  </tbody>\n",
       "</table>\n",
       "</div>"
      ],
      "text/plain": [
       "  Classifier  ...                                      Text to lower\n",
       "0        ham  ...  go until jurong point, crazy.. available only ...\n",
       "1        ham  ...                      ok lar... joking wif u oni...\n",
       "2       spam  ...  free entry in 2 a wkly comp to win fa cup fina...\n",
       "3        ham  ...  u dun say so early hor... u c already then say...\n",
       "4        ham  ...  nah i don't think he goes to usf, he lives aro...\n",
       "\n",
       "[5 rows x 5 columns]"
      ]
     },
     "execution_count": 147,
     "metadata": {
      "tags": []
     },
     "output_type": "execute_result"
    }
   ],
   "source": [
    "# List of 14 words that we thought were likely to show up in spam\n",
    "spam_words_list = ['urgent', 'prize', 'click', 'share', 'win', 'won'\n",
    "                   'http', 'msg', 'cash', 'money', 'credit', 'stop', 'reply', 'free']\n",
    "\n",
    "data['Text to lower'] = data['Text'].map(lambda text: text.lower())\n",
    "data.head()"
   ]
  },
  {
   "cell_type": "code",
   "execution_count": 0,
   "metadata": {
    "colab": {
     "base_uri": "https://localhost:8080/",
     "height": 204
    },
    "colab_type": "code",
    "id": "i_l1rRjm_FiZ",
    "outputId": "12ccaefb-bf32-4f62-ad59-f7e988013f64"
   },
   "outputs": [
    {
     "data": {
      "text/html": [
       "<div>\n",
       "<style scoped>\n",
       "    .dataframe tbody tr th:only-of-type {\n",
       "        vertical-align: middle;\n",
       "    }\n",
       "\n",
       "    .dataframe tbody tr th {\n",
       "        vertical-align: top;\n",
       "    }\n",
       "\n",
       "    .dataframe thead th {\n",
       "        text-align: right;\n",
       "    }\n",
       "</style>\n",
       "<table border=\"1\" class=\"dataframe\">\n",
       "  <thead>\n",
       "    <tr style=\"text-align: right;\">\n",
       "      <th></th>\n",
       "      <th>index</th>\n",
       "      <th>Classifier</th>\n",
       "      <th>Text</th>\n",
       "      <th>% of upper</th>\n",
       "      <th>Has Emote?</th>\n",
       "      <th>Text to lower</th>\n",
       "      <th>Has Spam Word?</th>\n",
       "    </tr>\n",
       "  </thead>\n",
       "  <tbody>\n",
       "    <tr>\n",
       "      <th>0</th>\n",
       "      <td>2</td>\n",
       "      <td>spam</td>\n",
       "      <td>Free entry in 2 a wkly comp to win FA Cup fina...</td>\n",
       "      <td>0.064516</td>\n",
       "      <td>False</td>\n",
       "      <td>free entry in 2 a wkly comp to win fa cup fina...</td>\n",
       "      <td>True</td>\n",
       "    </tr>\n",
       "    <tr>\n",
       "      <th>1</th>\n",
       "      <td>8</td>\n",
       "      <td>spam</td>\n",
       "      <td>WINNER!! As a valued network customer you have...</td>\n",
       "      <td>0.076433</td>\n",
       "      <td>False</td>\n",
       "      <td>winner!! as a valued network customer you have...</td>\n",
       "      <td>True</td>\n",
       "    </tr>\n",
       "    <tr>\n",
       "      <th>2</th>\n",
       "      <td>11</td>\n",
       "      <td>spam</td>\n",
       "      <td>SIX chances to win CASH! From 100 to 20,000 po...</td>\n",
       "      <td>0.125000</td>\n",
       "      <td>False</td>\n",
       "      <td>six chances to win cash! from 100 to 20,000 po...</td>\n",
       "      <td>True</td>\n",
       "    </tr>\n",
       "    <tr>\n",
       "      <th>3</th>\n",
       "      <td>12</td>\n",
       "      <td>spam</td>\n",
       "      <td>URGENT! You have won a 1 week FREE membership ...</td>\n",
       "      <td>0.258065</td>\n",
       "      <td>False</td>\n",
       "      <td>urgent! you have won a 1 week free membership ...</td>\n",
       "      <td>True</td>\n",
       "    </tr>\n",
       "    <tr>\n",
       "      <th>4</th>\n",
       "      <td>13</td>\n",
       "      <td>ham</td>\n",
       "      <td>I've been searching for the right words to tha...</td>\n",
       "      <td>0.015306</td>\n",
       "      <td>False</td>\n",
       "      <td>i've been searching for the right words to tha...</td>\n",
       "      <td>True</td>\n",
       "    </tr>\n",
       "  </tbody>\n",
       "</table>\n",
       "</div>"
      ],
      "text/plain": [
       "   index  ... Has Spam Word?\n",
       "0      2  ...           True\n",
       "1      8  ...           True\n",
       "2     11  ...           True\n",
       "3     12  ...           True\n",
       "4     13  ...           True\n",
       "\n",
       "[5 rows x 7 columns]"
      ]
     },
     "execution_count": 148,
     "metadata": {
      "tags": []
     },
     "output_type": "execute_result"
    }
   ],
   "source": [
    "# Create lists to keep track of word usage (t/f if present)\n",
    "urgent_list = t.map(lambda text: True if re.search('urgent', text) else False)\n",
    "prize_list = t.map(lambda text: True if re.search('prize', text) else False)\n",
    "click_list = t.map(lambda text: True if re.search('check', text) else False)\n",
    "share_list = t.map(lambda text: True if re.search('share', text) else False)\n",
    "winning_list = t.map(lambda text: True if (re.search('win', text) or re.search('won', text)) else False)\n",
    "http_list = t.map(lambda text: True if re.search('http', text) else False)\n",
    "msg_list = t.map(lambda text: True if re.search('msg', text) else False)\n",
    "cash_list = t.map(lambda text: True if re.search('cash', text) else False)\n",
    "money_list = t.map(lambda text: True if re.search('money', text) else False)\n",
    "credit_list = t.map(lambda text: True if (re.search('credit', text) or re.search('won', text)) else False)\n",
    "stop_list = t.map(lambda text: True if re.search('stop', text) else False)\n",
    "reply_list = t.map(lambda text: True if re.search('reply', text) else False)\n",
    "free_list = t.map(lambda text: True if re.search('free', text) else False)\n",
    "\n",
    "# Combined list to keep track of whether there were any spam words\n",
    "# Will use that to subset the original dataset and get a set of sms messages all with some type of spam word\n",
    "\n",
    "spam_words_present = []\n",
    "\n",
    "for i in range(len(urgent_list)) :\n",
    "  if urgent_list[i] or prize_list[i] or click_list[i] or share_list[i] or winning_list[i]:\n",
    "    spam_words_present.append(True)\n",
    "  elif http_list[i] or msg_list[i] or cash_list[i] or money_list[i] or credit_list[i]:\n",
    "    spam_words_present.append(True)\n",
    "  elif stop_list[i] or reply_list[i] or free_list[i]:\n",
    "    spam_words_present.append(True)\n",
    "  else :\n",
    "    spam_words_present.append(False)\n",
    "\n",
    "data['Has Spam Word?'] = spam_words_present\n",
    "data_with_spam_word = data[data['Has Spam Word?'] == True]\n",
    "data_with_spam_word = data_with_spam_word.reset_index()\n",
    "data_with_spam_word.head()"
   ]
  },
  {
   "cell_type": "code",
   "execution_count": 0,
   "metadata": {
    "colab": {
     "base_uri": "https://localhost:8080/",
     "height": 34
    },
    "colab_type": "code",
    "id": "0X265eogLHro",
    "outputId": "455f5e46-b93c-4c3b-b410-b0531e082ade"
   },
   "outputs": [
    {
     "data": {
      "text/plain": [
       "(900, 7)"
      ]
     },
     "execution_count": 149,
     "metadata": {
      "tags": []
     },
     "output_type": "execute_result"
    }
   ],
   "source": [
    "# ~18% of the data has at least one of the words identified by us as a potential \"spam word\"\n",
    "data_with_spam_word.shape"
   ]
  },
  {
   "cell_type": "code",
   "execution_count": 0,
   "metadata": {
    "colab": {
     "base_uri": "https://localhost:8080/",
     "height": 34
    },
    "colab_type": "code",
    "id": "xOvuqL8fLT59",
    "outputId": "5c46c0e6-edf4-4e6b-9d4b-9b3120a7fa1c"
   },
   "outputs": [
    {
     "data": {
      "text/plain": [
       "353"
      ]
     },
     "execution_count": 150,
     "metadata": {
      "tags": []
     },
     "output_type": "execute_result"
    }
   ],
   "source": [
    "# List number of 'spam' messages detected using our spam word classifiers\n",
    "list(data_with_spam_word['Classifier']).count('spam')"
   ]
  },
  {
   "cell_type": "markdown",
   "metadata": {
    "colab_type": "text",
    "id": "RGlwoL17vfk9"
   },
   "source": [
    "Using our \"spam words list\" results in a HUGE error margin of (900 - 353)/900 = 60.78% (this means ~61% of the data we would predict to be spam using our predictor is not actually spam). Also, we do not catch (747 - 353)/747 = 52.74% of the spam. Clearly, using this predetermined list of \"spam words\" does not work for determining spam vs. non-spam."
   ]
  },
  {
   "cell_type": "markdown",
   "metadata": {
    "colab_type": "text",
    "id": "0MaUcpQpLh8T"
   },
   "source": [
    "\n",
    "\n",
    "## __Creating Predictors for our Model__ \n",
    "\n",
    "From doing our preliminary checks above we concluded the following in creating our predictor model:\n",
    "\n",
    "_1)_ We should not use capital letters as a predictor of spam vs. ham.\n",
    "\n",
    "_2)_ Emoticons could be a good predictor, but not enough of the messages in the data set contain emoticon usage.\n",
    "\n",
    "So, we will focus ONLY on the \"spam words\" to train logistic regression model.\n",
    "\n",
    "Also, we referenced the following link to figure out how to go about creating our predictors: https://www.geeksforgeeks.org/bag-of-words-bow-model-in-nlp/. Specifically, we derived inspiration from the Bag-Of-Words section, and decided to analogously create one predictor using the same technnique.\n",
    " \n",
    "Thus, to train our model, we decided to predict spam based on specific words that would show up more frequently in spam messages. We created two variations on this kind of predictor:\n",
    "\n",
    "_1)_ Count of spam words present in SMS message (1 value)\n",
    "\n",
    "_2)_ 14x1 vector with percentage of the message that is composed of that spam word in position i (i.e. our first spam word is \"urgent,\" so if a message had 5 words total, one of which was \"urgent,\" and all the other words were non-spam words, the corresponding vector would be [0.2, 0, 0, ...])."
   ]
  },
  {
   "cell_type": "code",
   "execution_count": 0,
   "metadata": {
    "colab": {
     "base_uri": "https://localhost:8080/",
     "height": 393
    },
    "colab_type": "code",
    "id": "XI-Rnqlois11",
    "outputId": "2b3db476-a471-472c-cf5e-8b3fbef14bd6"
   },
   "outputs": [
    {
     "data": {
      "text/html": [
       "<div>\n",
       "<style scoped>\n",
       "    .dataframe tbody tr th:only-of-type {\n",
       "        vertical-align: middle;\n",
       "    }\n",
       "\n",
       "    .dataframe tbody tr th {\n",
       "        vertical-align: top;\n",
       "    }\n",
       "\n",
       "    .dataframe thead th {\n",
       "        text-align: right;\n",
       "    }\n",
       "</style>\n",
       "<table border=\"1\" class=\"dataframe\">\n",
       "  <thead>\n",
       "    <tr style=\"text-align: right;\">\n",
       "      <th></th>\n",
       "      <th>Classifier</th>\n",
       "      <th>Text</th>\n",
       "      <th>% of upper</th>\n",
       "      <th>Has Emote?</th>\n",
       "      <th>Text to lower</th>\n",
       "      <th>Has Spam Word?</th>\n",
       "      <th>Spam Word List Predictor</th>\n",
       "      <th># Distinct Spam Words</th>\n",
       "    </tr>\n",
       "  </thead>\n",
       "  <tbody>\n",
       "    <tr>\n",
       "      <th>0</th>\n",
       "      <td>ham</td>\n",
       "      <td>Go until jurong point, crazy.. Available only ...</td>\n",
       "      <td>0.027027</td>\n",
       "      <td>False</td>\n",
       "      <td>go until jurong point, crazy.. available only ...</td>\n",
       "      <td>False</td>\n",
       "      <td>[0.0, 0.0, 0.0, 0.0, 0.0, 0.0, 0.0, 0.0, 0.0, ...</td>\n",
       "      <td>0</td>\n",
       "    </tr>\n",
       "    <tr>\n",
       "      <th>1</th>\n",
       "      <td>ham</td>\n",
       "      <td>Ok lar... Joking wif u oni...</td>\n",
       "      <td>0.068966</td>\n",
       "      <td>False</td>\n",
       "      <td>ok lar... joking wif u oni...</td>\n",
       "      <td>False</td>\n",
       "      <td>[0.0, 0.0, 0.0, 0.0, 0.0, 0.0, 0.0, 0.0, 0.0, ...</td>\n",
       "      <td>0</td>\n",
       "    </tr>\n",
       "    <tr>\n",
       "      <th>2</th>\n",
       "      <td>spam</td>\n",
       "      <td>Free entry in 2 a wkly comp to win FA Cup fina...</td>\n",
       "      <td>0.064516</td>\n",
       "      <td>False</td>\n",
       "      <td>free entry in 2 a wkly comp to win fa cup fina...</td>\n",
       "      <td>True</td>\n",
       "      <td>[0.0, 0.0, 0.0, 0.0, 0.03571428571428571, 0.0,...</td>\n",
       "      <td>1</td>\n",
       "    </tr>\n",
       "    <tr>\n",
       "      <th>3</th>\n",
       "      <td>ham</td>\n",
       "      <td>U dun say so early hor... U c already then say...</td>\n",
       "      <td>0.040816</td>\n",
       "      <td>False</td>\n",
       "      <td>u dun say so early hor... u c already then say...</td>\n",
       "      <td>False</td>\n",
       "      <td>[0.0, 0.0, 0.0, 0.0, 0.0, 0.0, 0.0, 0.0, 0.0, ...</td>\n",
       "      <td>0</td>\n",
       "    </tr>\n",
       "    <tr>\n",
       "      <th>4</th>\n",
       "      <td>ham</td>\n",
       "      <td>Nah I don't think he goes to usf, he lives aro...</td>\n",
       "      <td>0.032787</td>\n",
       "      <td>False</td>\n",
       "      <td>nah i don't think he goes to usf, he lives aro...</td>\n",
       "      <td>False</td>\n",
       "      <td>[0.0, 0.0, 0.0, 0.0, 0.0, 0.0, 0.0, 0.0, 0.0, ...</td>\n",
       "      <td>0</td>\n",
       "    </tr>\n",
       "    <tr>\n",
       "      <th>5</th>\n",
       "      <td>spam</td>\n",
       "      <td>FreeMsg Hey there darling it's been 3 week's n...</td>\n",
       "      <td>0.047619</td>\n",
       "      <td>False</td>\n",
       "      <td>freemsg hey there darling it's been 3 week's n...</td>\n",
       "      <td>False</td>\n",
       "      <td>[0.0, 0.0, 0.0, 0.0, 0.0, 0.0, 0.0, 0.0, 0.0, ...</td>\n",
       "      <td>0</td>\n",
       "    </tr>\n",
       "    <tr>\n",
       "      <th>6</th>\n",
       "      <td>ham</td>\n",
       "      <td>Even my brother is not like to speak with me. ...</td>\n",
       "      <td>0.025974</td>\n",
       "      <td>False</td>\n",
       "      <td>even my brother is not like to speak with me. ...</td>\n",
       "      <td>False</td>\n",
       "      <td>[0.0, 0.0, 0.0, 0.0, 0.0, 0.0, 0.0, 0.0, 0.0, ...</td>\n",
       "      <td>0</td>\n",
       "    </tr>\n",
       "    <tr>\n",
       "      <th>7</th>\n",
       "      <td>ham</td>\n",
       "      <td>As per your request 'Melle Melle (Oru Minnamin...</td>\n",
       "      <td>0.062500</td>\n",
       "      <td>False</td>\n",
       "      <td>as per your request 'melle melle (oru minnamin...</td>\n",
       "      <td>False</td>\n",
       "      <td>[0.0, 0.0, 0.0, 0.0, 0.0, 0.0, 0.0, 0.0, 0.0, ...</td>\n",
       "      <td>0</td>\n",
       "    </tr>\n",
       "    <tr>\n",
       "      <th>8</th>\n",
       "      <td>spam</td>\n",
       "      <td>WINNER!! As a valued network customer you have...</td>\n",
       "      <td>0.076433</td>\n",
       "      <td>False</td>\n",
       "      <td>winner!! as a valued network customer you have...</td>\n",
       "      <td>True</td>\n",
       "      <td>[0.0, 0.038461538461538464, 0.0, 0.0, 0.0, 0.0...</td>\n",
       "      <td>1</td>\n",
       "    </tr>\n",
       "    <tr>\n",
       "      <th>9</th>\n",
       "      <td>spam</td>\n",
       "      <td>Had your mobile 11 months or more? U R entitle...</td>\n",
       "      <td>0.090909</td>\n",
       "      <td>False</td>\n",
       "      <td>had your mobile 11 months or more? u r entitle...</td>\n",
       "      <td>False</td>\n",
       "      <td>[0.0, 0.0, 0.0, 0.0, 0.0, 0.0, 0.0, 0.0, 0.0, ...</td>\n",
       "      <td>0</td>\n",
       "    </tr>\n",
       "  </tbody>\n",
       "</table>\n",
       "</div>"
      ],
      "text/plain": [
       "  Classifier  ... # Distinct Spam Words\n",
       "0        ham  ...                     0\n",
       "1        ham  ...                     0\n",
       "2       spam  ...                     1\n",
       "3        ham  ...                     0\n",
       "4        ham  ...                     0\n",
       "5       spam  ...                     0\n",
       "6        ham  ...                     0\n",
       "7        ham  ...                     0\n",
       "8       spam  ...                     1\n",
       "9       spam  ...                     0\n",
       "\n",
       "[10 rows x 8 columns]"
      ]
     },
     "execution_count": 151,
     "metadata": {
      "tags": []
     },
     "output_type": "execute_result"
    }
   ],
   "source": [
    "## Creating the predictors for our model\n",
    "all_predictors = []\n",
    "all_spam_count = []\n",
    "\n",
    "for i in range(data.shape[0]) :\n",
    "  curr_predictor = []\n",
    "  curr_spam_word_count = 0\n",
    "  curr_msg = str(data['Text'][i])\n",
    "  total_word_count = len(curr_msg.split())\n",
    "  # loop through each of 12 spam words\n",
    "  # for each word count # of occurences\n",
    "  for j in range(len(spam_words_list)) :\n",
    "    curr_predictor.append(len(re.findall(spam_words_list[j], curr_msg)) / total_word_count)\n",
    "    if re.search(spam_words_list[j], curr_msg) :\n",
    "      curr_spam_word_count += 1\n",
    "  all_predictors.append(curr_predictor)\n",
    "  all_spam_count.append(curr_spam_word_count)\n",
    "\n",
    "data['Spam Word List Predictor'] = all_predictors  \n",
    "data['# Distinct Spam Words'] = all_spam_count\n",
    "data.head(10)"
   ]
  },
  {
   "cell_type": "markdown",
   "metadata": {
    "colab_type": "text",
    "id": "bwK6IFf1K3Mf"
   },
   "source": [
    "## __Training Our Models__"
   ]
  },
  {
   "cell_type": "markdown",
   "metadata": {
    "colab_type": "text",
    "id": "-MWgyAD9lVsr"
   },
   "source": [
    "We decided to use 10-fold cross-validation and logistic regression to predict spam vs. not spam (we used the following link for more information on cross-validation: https://machinelearningmastery.com/k-fold-cross-validation/).  As predictors, we are comparing two things:\n",
    "\n",
    "1) Total number of distinct spam words present in message (min 0, max 14) \n",
    "\n",
    "2) 14x1 vector with percentage of spam word _i_'s occurence in position _i_\n",
    "\n",
    "The following code creates two models, one per each predictor we have decided upon, and calculates AUROC over 10-fold cross-validation for both models:"
   ]
  },
  {
   "cell_type": "code",
   "execution_count": 0,
   "metadata": {
    "colab": {
     "base_uri": "https://localhost:8080/",
     "height": 669
    },
    "colab_type": "code",
    "id": "sDsJ35p7hwx4",
    "outputId": "167164f2-9271-4e83-e475-91d6ce949eaa"
   },
   "outputs": [
    {
     "data": {
      "text/html": [
       "<div>\n",
       "<style scoped>\n",
       "    .dataframe tbody tr th:only-of-type {\n",
       "        vertical-align: middle;\n",
       "    }\n",
       "\n",
       "    .dataframe tbody tr th {\n",
       "        vertical-align: top;\n",
       "    }\n",
       "\n",
       "    .dataframe thead th {\n",
       "        text-align: right;\n",
       "    }\n",
       "</style>\n",
       "<table border=\"1\" class=\"dataframe\">\n",
       "  <thead>\n",
       "    <tr style=\"text-align: right;\">\n",
       "      <th></th>\n",
       "      <th>fold</th>\n",
       "      <th>auc</th>\n",
       "      <th>model</th>\n",
       "    </tr>\n",
       "  </thead>\n",
       "  <tbody>\n",
       "    <tr>\n",
       "      <th>0</th>\n",
       "      <td>0</td>\n",
       "      <td>0.725217</td>\n",
       "      <td># distinct spam words</td>\n",
       "    </tr>\n",
       "    <tr>\n",
       "      <th>1</th>\n",
       "      <td>1</td>\n",
       "      <td>0.675652</td>\n",
       "      <td># distinct spam words</td>\n",
       "    </tr>\n",
       "    <tr>\n",
       "      <th>2</th>\n",
       "      <td>2</td>\n",
       "      <td>0.708489</td>\n",
       "      <td># distinct spam words</td>\n",
       "    </tr>\n",
       "    <tr>\n",
       "      <th>3</th>\n",
       "      <td>3</td>\n",
       "      <td>0.703506</td>\n",
       "      <td># distinct spam words</td>\n",
       "    </tr>\n",
       "    <tr>\n",
       "      <th>4</th>\n",
       "      <td>4</td>\n",
       "      <td>0.703892</td>\n",
       "      <td># distinct spam words</td>\n",
       "    </tr>\n",
       "    <tr>\n",
       "      <th>5</th>\n",
       "      <td>5</td>\n",
       "      <td>0.638590</td>\n",
       "      <td># distinct spam words</td>\n",
       "    </tr>\n",
       "    <tr>\n",
       "      <th>6</th>\n",
       "      <td>6</td>\n",
       "      <td>0.691413</td>\n",
       "      <td># distinct spam words</td>\n",
       "    </tr>\n",
       "    <tr>\n",
       "      <th>7</th>\n",
       "      <td>7</td>\n",
       "      <td>0.693209</td>\n",
       "      <td># distinct spam words</td>\n",
       "    </tr>\n",
       "    <tr>\n",
       "      <th>8</th>\n",
       "      <td>8</td>\n",
       "      <td>0.705588</td>\n",
       "      <td># distinct spam words</td>\n",
       "    </tr>\n",
       "    <tr>\n",
       "      <th>9</th>\n",
       "      <td>9</td>\n",
       "      <td>0.670678</td>\n",
       "      <td># distinct spam words</td>\n",
       "    </tr>\n",
       "    <tr>\n",
       "      <th>0</th>\n",
       "      <td>0</td>\n",
       "      <td>0.731580</td>\n",
       "      <td>list of spam words</td>\n",
       "    </tr>\n",
       "    <tr>\n",
       "      <th>1</th>\n",
       "      <td>1</td>\n",
       "      <td>0.682346</td>\n",
       "      <td>list of spam words</td>\n",
       "    </tr>\n",
       "    <tr>\n",
       "      <th>2</th>\n",
       "      <td>2</td>\n",
       "      <td>0.717322</td>\n",
       "      <td>list of spam words</td>\n",
       "    </tr>\n",
       "    <tr>\n",
       "      <th>3</th>\n",
       "      <td>3</td>\n",
       "      <td>0.710600</td>\n",
       "      <td>list of spam words</td>\n",
       "    </tr>\n",
       "    <tr>\n",
       "      <th>4</th>\n",
       "      <td>4</td>\n",
       "      <td>0.714132</td>\n",
       "      <td>list of spam words</td>\n",
       "    </tr>\n",
       "    <tr>\n",
       "      <th>5</th>\n",
       "      <td>5</td>\n",
       "      <td>0.644704</td>\n",
       "      <td>list of spam words</td>\n",
       "    </tr>\n",
       "    <tr>\n",
       "      <th>6</th>\n",
       "      <td>6</td>\n",
       "      <td>0.691847</td>\n",
       "      <td>list of spam words</td>\n",
       "    </tr>\n",
       "    <tr>\n",
       "      <th>7</th>\n",
       "      <td>7</td>\n",
       "      <td>0.699516</td>\n",
       "      <td>list of spam words</td>\n",
       "    </tr>\n",
       "    <tr>\n",
       "      <th>8</th>\n",
       "      <td>8</td>\n",
       "      <td>0.712213</td>\n",
       "      <td>list of spam words</td>\n",
       "    </tr>\n",
       "    <tr>\n",
       "      <th>9</th>\n",
       "      <td>9</td>\n",
       "      <td>0.683250</td>\n",
       "      <td>list of spam words</td>\n",
       "    </tr>\n",
       "  </tbody>\n",
       "</table>\n",
       "</div>"
      ],
      "text/plain": [
       "   fold       auc                  model\n",
       "0     0  0.725217  # distinct spam words\n",
       "1     1  0.675652  # distinct spam words\n",
       "2     2  0.708489  # distinct spam words\n",
       "3     3  0.703506  # distinct spam words\n",
       "4     4  0.703892  # distinct spam words\n",
       "5     5  0.638590  # distinct spam words\n",
       "6     6  0.691413  # distinct spam words\n",
       "7     7  0.693209  # distinct spam words\n",
       "8     8  0.705588  # distinct spam words\n",
       "9     9  0.670678  # distinct spam words\n",
       "0     0  0.731580     list of spam words\n",
       "1     1  0.682346     list of spam words\n",
       "2     2  0.717322     list of spam words\n",
       "3     3  0.710600     list of spam words\n",
       "4     4  0.714132     list of spam words\n",
       "5     5  0.644704     list of spam words\n",
       "6     6  0.691847     list of spam words\n",
       "7     7  0.699516     list of spam words\n",
       "8     8  0.712213     list of spam words\n",
       "9     9  0.683250     list of spam words"
      ]
     },
     "execution_count": 153,
     "metadata": {
      "tags": []
     },
     "output_type": "execute_result"
    }
   ],
   "source": [
    "import sklearn\n",
    "import numpy as np\n",
    "\n",
    "from sklearn.linear_model import LogisticRegression\n",
    "from sklearn.model_selection import cross_val_score\n",
    "from sklearn.linear_model import LogisticRegressionCV\n",
    "from sklearn import preprocessing\n",
    "from sklearn import metrics\n",
    "\n",
    "X1 = np.array(list(data['# Distinct Spam Words'])).reshape(-1,1)\n",
    "X2 = list(data['Spam Word List Predictor'])\n",
    "Y = list(data['Classifier'])\n",
    "\n",
    "cv_obj = sklearn.model_selection.StratifiedKFold(n_splits=10)\n",
    "\n",
    "X1_scaled = preprocessing.scale(X1)\n",
    "X2_scaled = preprocessing.scale(X2)\n",
    "\n",
    "model_1 = LogisticRegression()\n",
    "model_2 = LogisticRegression()\n",
    "\n",
    "Y = np.array(Y)\n",
    "   \n",
    "def get_roc_data(model, cv_obj, x):\n",
    "    curve_df = None\n",
    "    aucs = []\n",
    "    mean_fpr = np.linspace(0, 1, 100)\n",
    "    \n",
    "    for i, (train, test) in enumerate(cv_obj.split(x, Y)):\n",
    "        model.fit(x[train], Y[train])\n",
    "        scores = model.predict_proba(x[test])[:,1]\n",
    "        fpr, tpr, _ = sklearn.metrics.roc_curve(Y[test],scores, pos_label = \"spam\")\n",
    "        \n",
    "        interp_tpr = np.interp(mean_fpr, fpr, tpr)\n",
    "        interp_tpr[0] = 0.0\n",
    "        tmp = pd.DataFrame({'fold':i, 'fpr': mean_fpr, 'tpr': interp_tpr})\n",
    "        curve_df = tmp if curve_df is None else pd.concat([curve_df, tmp])\n",
    "        \n",
    "        aucs.append(sklearn.metrics.auc(fpr, tpr))\n",
    "        \n",
    "    curve_df = curve_df.groupby('fpr').agg({'tpr': 'mean'}).reset_index()\n",
    "    curve_df.iloc[-1,1] = 1.0\n",
    "    \n",
    "    auc_df = pd.DataFrame({'fold': np.arange(len(aucs)), 'auc': aucs})\n",
    "    return curve_df, auc_df\n",
    "\n",
    "# get roc curve data for model_1\n",
    "curve_df_1, auc_df_1 = get_roc_data(model_1, cv_obj, X1_scaled)\n",
    "curve_df_1['model'] = '# distinct spam words'\n",
    "auc_df_1['model'] = '# distinct spam words'\n",
    "\n",
    "# get roc curve data for model_2\n",
    "curve_df_2, auc_df_2 = get_roc_data(model_2, cv_obj, X2_scaled)\n",
    "curve_df_2['model'] = 'list of spam words'\n",
    "auc_df_2['model'] = 'list of spam words'\n",
    "\n",
    "# combine the roc curve data\n",
    "curve_df = pd.concat([curve_df_1, curve_df_2])\n",
    "auc_df = pd.concat([auc_df_1, auc_df_2])\n",
    "\n",
    "auc_df"
   ]
  },
  {
   "cell_type": "markdown",
   "metadata": {
    "colab_type": "text",
    "id": "41vAYdHMfGaJ"
   },
   "source": [
    "Above, we can see a dataframe of the AUROC for each of the 10-fold cross-validations for each predictor. However, it is difficult to extract patterns when the data is in that form, so we decide to plot it as shown below:"
   ]
  },
  {
   "cell_type": "code",
   "execution_count": 0,
   "metadata": {
    "colab": {
     "base_uri": "https://localhost:8080/",
     "height": 490
    },
    "colab_type": "code",
    "id": "VzccaijNn3VA",
    "outputId": "a5c16c9f-3f34-40c3-fc01-7fbd924711e2"
   },
   "outputs": [
    {
     "data": {
      "image/png": "[encoded data removed]",
      "text/plain": [
       "<Figure size 640x480 with 1 Axes>"
      ]
     },
     "metadata": {
      "tags": []
     },
     "output_type": "display_data"
    },
    {
     "data": {
      "text/plain": [
       "<ggplot: (-9223363280284768554)>"
      ]
     },
     "execution_count": 154,
     "metadata": {
      "tags": []
     },
     "output_type": "execute_result"
    }
   ],
   "source": [
    "from plotnine import *\n",
    "\n",
    "# plot the distribution of auc estimates\n",
    "(ggplot(auc_df, aes(x='model', y='auc')) + \n",
    "     geom_jitter(position=position_jitter(0.1)) +\n",
    "     coord_flip() +\n",
    "     labs(title = \"AUROC comparison\",\n",
    "          x=\"Model\",\n",
    "          y=\"Area under ROC curve\"))"
   ]
  },
  {
   "cell_type": "markdown",
   "metadata": {
    "colab_type": "text",
    "id": "R4RkzLLdfT-3"
   },
   "source": [
    "Plotting didn't help us visually notice any clear distinction between the models. The range for AUROC for both models is about the same, from ~0.64 to ~0.73. And, although the lowest AUROC for the model that uses number of distinct spam words as a predictor is lower than the lowest AUROC for the model that uses the list of spam words as a predictor, the distribution of all the other AUROCs seems to be clustered around the same general area, so we have to run a two-sided test to check whether there is actually any statistically significant difference between the models."
   ]
  },
  {
   "cell_type": "code",
   "execution_count": 0,
   "metadata": {
    "colab": {
     "base_uri": "https://localhost:8080/",
     "height": 444
    },
    "colab_type": "code",
    "id": "G-z97_kIpbtP",
    "outputId": "3671ef4e-e45c-428d-e51f-6ed47453b96b"
   },
   "outputs": [
    {
     "data": {
      "text/html": [
       "<table class=\"simpletable\">\n",
       "<caption>OLS Regression Results</caption>\n",
       "<tr>\n",
       "  <th>Dep. Variable:</th>           <td>auc</td>       <th>  R-squared:         </th> <td>   0.023</td>\n",
       "</tr>\n",
       "<tr>\n",
       "  <th>Model:</th>                   <td>OLS</td>       <th>  Adj. R-squared:    </th> <td>  -0.031</td>\n",
       "</tr>\n",
       "<tr>\n",
       "  <th>Method:</th>             <td>Least Squares</td>  <th>  F-statistic:       </th> <td>  0.4207</td>\n",
       "</tr>\n",
       "<tr>\n",
       "  <th>Date:</th>             <td>Fri, 15 May 2020</td> <th>  Prob (F-statistic):</th>  <td> 0.525</td> \n",
       "</tr>\n",
       "<tr>\n",
       "  <th>Time:</th>                 <td>20:37:03</td>     <th>  Log-Likelihood:    </th> <td>  46.798</td>\n",
       "</tr>\n",
       "<tr>\n",
       "  <th>No. Observations:</th>      <td>    20</td>      <th>  AIC:               </th> <td>  -89.60</td>\n",
       "</tr>\n",
       "<tr>\n",
       "  <th>Df Residuals:</th>          <td>    18</td>      <th>  BIC:               </th> <td>  -87.60</td>\n",
       "</tr>\n",
       "<tr>\n",
       "  <th>Df Model:</th>              <td>     1</td>      <th>                     </th>     <td> </td>   \n",
       "</tr>\n",
       "<tr>\n",
       "  <th>Covariance Type:</th>      <td>nonrobust</td>    <th>                     </th>     <td> </td>   \n",
       "</tr>\n",
       "</table>\n",
       "<table class=\"simpletable\">\n",
       "<tr>\n",
       "               <td></td>                  <th>coef</th>     <th>std err</th>      <th>t</th>      <th>P>|t|</th>  <th>[0.025</th>    <th>0.975]</th>  \n",
       "</tr>\n",
       "<tr>\n",
       "  <th>Intercept</th>                   <td>    0.6916</td> <td>    0.008</td> <td>   89.008</td> <td> 0.000</td> <td>    0.675</td> <td>    0.708</td>\n",
       "</tr>\n",
       "<tr>\n",
       "  <th>model[T.list of spam words]</th> <td>    0.0071</td> <td>    0.011</td> <td>    0.649</td> <td> 0.525</td> <td>   -0.016</td> <td>    0.030</td>\n",
       "</tr>\n",
       "</table>\n",
       "<table class=\"simpletable\">\n",
       "<tr>\n",
       "  <th>Omnibus:</th>       <td> 4.557</td> <th>  Durbin-Watson:     </th> <td>   2.456</td>\n",
       "</tr>\n",
       "<tr>\n",
       "  <th>Prob(Omnibus):</th> <td> 0.102</td> <th>  Jarque-Bera (JB):  </th> <td>   2.844</td>\n",
       "</tr>\n",
       "<tr>\n",
       "  <th>Skew:</th>          <td>-0.909</td> <th>  Prob(JB):          </th> <td>   0.241</td>\n",
       "</tr>\n",
       "<tr>\n",
       "  <th>Kurtosis:</th>      <td> 3.328</td> <th>  Cond. No.          </th> <td>    2.62</td>\n",
       "</tr>\n",
       "</table><br/><br/>Warnings:<br/>[1] Standard Errors assume that the covariance matrix of the errors is correctly specified."
      ],
      "text/plain": [
       "<class 'statsmodels.iolib.summary.Summary'>\n",
       "\"\"\"\n",
       "                            OLS Regression Results                            \n",
       "==============================================================================\n",
       "Dep. Variable:                    auc   R-squared:                       0.023\n",
       "Model:                            OLS   Adj. R-squared:                 -0.031\n",
       "Method:                 Least Squares   F-statistic:                    0.4207\n",
       "Date:                Fri, 15 May 2020   Prob (F-statistic):              0.525\n",
       "Time:                        20:37:03   Log-Likelihood:                 46.798\n",
       "No. Observations:                  20   AIC:                            -89.60\n",
       "Df Residuals:                      18   BIC:                            -87.60\n",
       "Df Model:                           1                                         \n",
       "Covariance Type:            nonrobust                                         \n",
       "===============================================================================================\n",
       "                                  coef    std err          t      P>|t|      [0.025      0.975]\n",
       "-----------------------------------------------------------------------------------------------\n",
       "Intercept                       0.6916      0.008     89.008      0.000       0.675       0.708\n",
       "model[T.list of spam words]     0.0071      0.011      0.649      0.525      -0.016       0.030\n",
       "==============================================================================\n",
       "Omnibus:                        4.557   Durbin-Watson:                   2.456\n",
       "Prob(Omnibus):                  0.102   Jarque-Bera (JB):                2.844\n",
       "Skew:                          -0.909   Prob(JB):                        0.241\n",
       "Kurtosis:                       3.328   Cond. No.                         2.62\n",
       "==============================================================================\n",
       "\n",
       "Warnings:\n",
       "[1] Standard Errors assume that the covariance matrix of the errors is correctly specified.\n",
       "\"\"\""
      ]
     },
     "execution_count": 155,
     "metadata": {
      "tags": []
     },
     "output_type": "execute_result"
    }
   ],
   "source": [
    "# use a two-sided test (based on linear regression) to see if there is a \n",
    "# statistically significant difference in auc estimates\n",
    "import statsmodels.formula.api as smf\n",
    "lm_fit = smf.ols('auc~model', data=auc_df).fit()\n",
    "lm_fit.summary()"
   ]
  },
  {
   "cell_type": "markdown",
   "metadata": {
    "colab_type": "text",
    "id": "4zO5eHRZpnBq"
   },
   "source": [
    "__Discussion of AUROC:__ There is a very small increase (+0.71%) in AUROC for the \"list of spam words\" model, but it is not statistically significant (p = 0.525 > 0.005). So, the models are relatively the same in terms of predicting power. The very strong similarity between the models was further confirmed by the ROC curve that we plotted below:"
   ]
  },
  {
   "cell_type": "code",
   "execution_count": 0,
   "metadata": {
    "colab": {
     "base_uri": "https://localhost:8080/",
     "height": 490
    },
    "colab_type": "code",
    "id": "E8hHWTmgovDw",
    "outputId": "7b2356f5-1523-4b96-a569-804689e0ceba"
   },
   "outputs": [
    {
     "data": {
      "image/png": "[encoded data removed]",
      "text/plain": [
       "<Figure size 640x480 with 1 Axes>"
      ]
     },
     "metadata": {
      "tags": []
     },
     "output_type": "display_data"
    },
    {
     "data": {
      "text/plain": [
       "<ggplot: (8756556808652)>"
      ]
     },
     "execution_count": 156,
     "metadata": {
      "tags": []
     },
     "output_type": "execute_result"
    }
   ],
   "source": [
    "mean_curve_df = curve_df.groupby(['model','fpr']).agg({'tpr': 'mean'}).reset_index()\n",
    "(ggplot(mean_curve_df, aes(x='fpr', y='tpr', color='model')) +\n",
    "    geom_line() +\n",
    "    labs(title = \"ROC curves\",\n",
    "         x = \"False positive rate\",\n",
    "         y = \"True positive rate\"))"
   ]
  },
  {
   "cell_type": "markdown",
   "metadata": {
    "colab_type": "text",
    "id": "WQ42NGggozC3"
   },
   "source": [
    "__Interpretation:__\n",
    "\n",
    "Both models aren't that great at predicting messages to be spam, operating at a TPR of ~50% when the False positive rate is ~15%. After a certain point (around (0.25, 0.45)), the ROC curve becomes linear. This implies after that point, it is operating almost exclusively at chance, only taking advantage of the initial boost in predicting power. "
   ]
  },
  {
   "cell_type": "markdown",
   "metadata": {
    "colab_type": "text",
    "id": "zyJijsy_tcob"
   },
   "source": [
    "## __Conclusion:__\n",
    "\n",
    "Spam is complicated to predict, and there are a multitude of factors contributing to whether a message is spam, some of which include:\n",
    "\n",
    "1) __Emoticons__ - Emoticons are a good predictor for whether a message is spam or not, but people do not use emoticons enough to justify using them as a predictor. So, emoticons by themselves are not a good enough predictor to capture all spam.\n",
    "\n",
    "2) __Capital Letter Usage__ - The amount of false positives that we found in our experiments were unacceptable, with the lowest amount of false positives being about 50% (this is when we used the threshold of 10% capital letters).\n",
    "\n",
    "3) __Specific Words__ - ROC curves confirmed that this is the area where we could use the most improvements, since we used our intuition to determine the words that were considered spam. With what we had, we determined that specfic words would not be a good filter due to high false positive rates (at 66% false positives). \n",
    "\n",
    "We did not test everything that could be possible for predicting a spam message but we decided to test these three factors in our experiments. Upon reflection we decided that in the future we could revise our experiment to get more accurate filtration by doing the following:\n",
    "\n",
    "1) We reconsidered how we could set up our predicting model - maybe we should more complex statistical techinques like Naive Bayes instead of Logistic Regression.\n",
    "\n",
    "2) We reconsidered what words we used as our \"spam words list\" - perhaps we should have looped through all the spam words and figured out which words are the most frequent in the spam data to use as a baseline for our list.\n",
    "\n",
    "3) We could reconsider our model - Decision Tree or Random Forest Classifiers might perform better than Logistic Regression.\n",
    "\n",
    "4) We should think of other characteristics of spam messages we could exploit.\n",
    "\n",
    "Overall, we did not find any pattern or combination thereof that would allow us to successfully determine with a high degree of reliability whether a message is spam or not. So, unfortunately, we weren't able to come up with a single recommendation we could give people looking for a quick heuristic by which to protect themselves from clicking on spam. But, we _were_ able to determine which factors are _not_ good predictors, and although this result isn't as satisfying as determining the best predictors, it still is a step forward in automating spam detection."
   ]
  },
  {
   "cell_type": "markdown",
   "metadata": {
    "colab_type": "text",
    "id": "lJ_MGKc5twqg"
   },
   "source": [
    "##__References__:\n",
    "\n",
    "_Almeida, T.A., Gómez Hidalgo, J.M., Silva, T.P.  Towards SMS Spam Filtering: Results under a New Dataset.   International Journal of Information Security Science (IJISS), 2(1), 1-18, 2013._\n",
    "\n",
    "_Almeida, T.A., Gómez Hidalgo, J.M., Yamakami, A. Contributions to the Study of SMS Spam Filtering: New Collection and Results.  Proceedings of the 2011 ACM Symposium on Document Engineering (DOCENG'11), Mountain View, CA, USA, 2011._\n",
    "\n",
    "_Almeida, T. A., Gómez Hidalgo, J.M. (2011). SMS Spam Collection v. 1. Retrieved May 10, 2020, from http://www.dt.fee.unicamp.br/~tiago/smsspamcollection/_\n",
    "\n",
    "_Brownlee, J. (2019, August 8). A Gentle Introduction to k-fold Cross-Validation. Retrieved May 15, 2020, from https://machinelearningmastery.com/k-fold-cross-validation/_\n",
    "\n",
    "_Dua, D. and Graff, C. (2019). UCI Machine Learning Repository [http://archive.ics.uci.edu/ml]. Irvine, CA: University of California, School of Information and Computer Science._\n",
    "\n",
    "_Dubrey, P. (2018, November 28). An introduction to Bag of Words and how to code it in Python for NLP. Retrieved May 15, 2020, from https://www.freecodecamp.org/news/an-introduction-to-bag-of-words-and-how-to-code-it-in-python-for-nlp-282e87a9da04/_\n",
    "\n",
    "_Gómez Hidalgo, J.M., Almeida, T.A., Yamakami, A. On the Validity of a New SMS Spam Collection.  Proceedings of the 11th IEEE International Conference on Machine Learning and Applications (ICMLA'12), Boca Raton, FL, USA, 2012._ \n",
    "\n",
    "_Python Regular Expressions  |  Python Education  |  Google Developers. (2018, December 19). Retrieved May 15, 2020, from https://developers.google.com/edu/python/regular-expressions_\n",
    "\n",
    "\n",
    "\n"
   ]
  }
 ],
 "metadata": {
  "colab": {
   "collapsed_sections": [],
   "name": "CMSC 320 Final Project",
   "provenance": [],
   "toc_visible": true
  },
  "kernelspec": {
   "display_name": "Python 3",
   "language": "python",
   "name": "python3"
  },
  "language_info": {
   "codemirror_mode": {
    "name": "ipython",
    "version": 3
   },
   "file_extension": ".py",
   "mimetype": "text/x-python",
   "name": "python",
   "nbconvert_exporter": "python",
   "pygments_lexer": "ipython3",
   "version": "3.7.6"
  }
 },
 "nbformat": 4,
 "nbformat_minor": 1
}
